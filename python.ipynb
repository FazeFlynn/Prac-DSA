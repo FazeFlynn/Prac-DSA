{
 "cells": [
  {
   "cell_type": "code",
   "execution_count": 1,
   "metadata": {},
   "outputs": [
    {
     "name": "stdout",
     "output_type": "stream",
     "text": [
      "mod1: len: 9 :  abcdkdcba\n"
     ]
    },
    {
     "data": {
      "text/plain": [
       "'i'"
      ]
     },
     "execution_count": 1,
     "metadata": {},
     "output_type": "execute_result"
    }
   ],
   "source": [
    "def ispali(s):\n",
    "    return s == s[::-1]\n",
    "\n",
    "def checkpali(s):\n",
    "    n = len(s)\n",
    "\n",
    "    if ispali(s):\n",
    "        return \"paindrome\"\n",
    "\n",
    "    for i in range(n-1):\n",
    "        mod1 = s[:i] + s[i+1:]\n",
    "        mod2 = s[:i] + s[i+2:]\n",
    "\n",
    "        # print(mod1)\n",
    "        # print(mod2)\n",
    "\n",
    "        if (ispali(mod1)):\n",
    "            print(f\"mod1: len: {len(mod1)} :  {mod1}\")\n",
    "            return s[i]\n",
    "        \n",
    "        if (ispali(mod2)):\n",
    "            print(f\"mod2: len: {len(mod2)} :  {mod2}\")\n",
    "            return s[i:i+2]\n",
    "        \n",
    "    return \"not possible\"\n",
    "\n",
    "\n",
    "\n",
    "\n",
    "\n",
    "str = \"abcdikdcba\"\n",
    "checkpali(str)"
   ]
  },
  {
   "cell_type": "code",
   "execution_count": 4,
   "metadata": {},
   "outputs": [
    {
     "name": "stdout",
     "output_type": "stream",
     "text": [
      "heeloo 123\n"
     ]
    }
   ],
   "source": [
    "print(\"heeloo \" + str(123))"
   ]
  },
  {
   "cell_type": "code",
   "execution_count": 5,
   "metadata": {},
   "outputs": [
    {
     "name": "stdout",
     "output_type": "stream",
     "text": [
      "a 0\n"
     ]
    }
   ],
   "source": [
    "s = \"abc\"\n",
    "st = s[5:]\n",
    "print(\"a \" + str(len(st)))"
   ]
  }
 ],
 "metadata": {
  "kernelspec": {
   "display_name": "Python 3",
   "language": "python",
   "name": "python3"
  },
  "language_info": {
   "codemirror_mode": {
    "name": "ipython",
    "version": 3
   },
   "file_extension": ".py",
   "mimetype": "text/x-python",
   "name": "python",
   "nbconvert_exporter": "python",
   "pygments_lexer": "ipython3",
   "version": "3.12.0"
  }
 },
 "nbformat": 4,
 "nbformat_minor": 2
}
