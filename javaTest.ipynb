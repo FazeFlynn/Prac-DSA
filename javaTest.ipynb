{
 "cells": [
  {
   "cell_type": "code",
   "execution_count": null,
   "metadata": {},
   "outputs": [
    {
     "name": "stdout",
     "output_type": "stream",
     "text": [
      "1\n",
      "1\n",
      "10\n",
      "101\n",
      "0\n",
      "01\n",
      "1\n",
      "1\n",
      "11\n",
      "1\n",
      "1\n",
      "1\n",
      "11\n",
      "111\n",
      "1111\n",
      "1\n",
      "11\n",
      "111\n",
      "1\n",
      "11\n",
      "1\n",
      "1\n",
      "10\n",
      "100\n",
      "1001\n",
      "0\n",
      "00\n",
      "001\n",
      "0\n",
      "01\n",
      "1\n",
      "[0, 11, 00, 1, 01, 111, 100, 001, 101, 1111, 1001, 10]\n"
     ]
    },
    {
     "ename": "CompilationException",
     "evalue": "",
     "output_type": "error",
     "traceback": [
      "\u001b[1m\u001b[30m|   \u001b[1m\u001b[30m\u001b[0m\u001b[1m\u001b[30m\u001b[41m\u001b[0m\u001b[1m\u001b[30m.\u001b[0m",
      "\u001b[1m\u001b[31millegal start of expression\u001b[0m",
      ""
     ]
    }
   ],
   "source": [
    "Set<String> BinStr(String s){\n",
    "    Set<String> sub = new HashSet<>();    \n",
    "    int n = s.length();\n",
    "\n",
    "    for(int i = 0; i < n; i++) {\n",
    "        for(int j = i; j < n-1; j++) {\n",
    "            String subStr = s.substring(i,j+1);\n",
    "\n",
    "            if(subStr.matches(\"[01]+\")){\n",
    "                System.out.println(subStr);\n",
    "                sub.add(subStr);\n",
    "            } else {\n",
    "                break;\n",
    "            }            \n",
    "        }        \n",
    "    }\n",
    "\n",
    "    return sub;\n",
    "}\n",
    "\n",
    "String output = \"hello from the other side i must have called it thosund times so hello fom the other side im sut have alled ithosuand tesm\"\n",
    "String input = \"1as101adgfg11fdf1cdf1111fdfd1001ffd\";\n",
    "Set<String> sub1 = BinStr(input);\n",
    "System.out.println(sub1);\n",
    "\n",
    "\n",
    "int degree = Integer.MAX_VALUE;\n",
    "int currdig = -1;\n",
    "\n",
    "for(String s : sub1){\n",
    "    currdig = Integer.parseInt(s,2);\n",
    "\n",
    "    if(currdig != 0){\n",
    "        System.out.println(currdig);\n",
    "        \n",
    "    }\n",
    "}\n",
    "\n"
   ]
  },
  {
   "cell_type": "code",
   "execution_count": 8,
   "metadata": {},
   "outputs": [
    {
     "data": {
      "text/plain": [
       "a"
      ]
     },
     "execution_count": 8,
     "metadata": {},
     "output_type": "execute_result"
    }
   ],
   "source": [
    "String mystr = \"abcd\";\n",
    "String sub = mystr.substring(0,1);\n",
    "sub;"
   ]
  },
  {
   "cell_type": "code",
   "execution_count": null,
   "metadata": {},
   "outputs": [],
   "source": []
  }
 ],
 "metadata": {
  "kernelspec": {
   "display_name": "Java",
   "language": "java",
   "name": "java"
  },
  "language_info": {
   "codemirror_mode": "java",
   "file_extension": ".jshell",
   "mimetype": "text/x-java-source",
   "name": "java",
   "pygments_lexer": "java",
   "version": "21.0.1+12-LTS-29"
  }
 },
 "nbformat": 4,
 "nbformat_minor": 2
}
