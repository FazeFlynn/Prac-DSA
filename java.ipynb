{
 "cells": [
  {
   "cell_type": "markdown",
   "metadata": {},
   "source": [
    "## Max Sum of SubArray of 3 elements"
   ]
  },
  {
   "cell_type": "code",
   "execution_count": 32,
   "metadata": {
    "vscode": {
     "languageId": "java"
    }
   },
   "outputs": [
    {
     "name": "stdout",
     "output_type": "stream",
     "text": [
      "171\n"
     ]
    }
   ],
   "source": [
    "int subSum(int[] nums, int k){\n",
    "\n",
    "    int left = 0;\n",
    "    int right = k-1;\n",
    "\n",
    "    int sum = 0;\n",
    "    int newSum = 0;\n",
    "\n",
    "    int finalSum = 0;\n",
    "\n",
    "    for(int i = left; i <= right; i++) {\n",
    "        sum += nums[i];\n",
    "\n",
    "    }\n",
    "\n",
    "    finalSum = sum;\n",
    "    \n",
    "    left++;\n",
    "    right++;\n",
    "\n",
    "    while(right < nums.length){\n",
    "        newSum = sum - nums[left-1] + nums[right];\n",
    "\n",
    "        if (newSum > finalSum){\n",
    "            finalSum = newSum;            \n",
    "        }\n",
    "\n",
    "        sum = newSum;\n",
    "        left++;\n",
    "        right++;\n",
    "    }\n",
    "\n",
    "    return finalSum;\n",
    "}\n",
    "\n",
    "int[] nums = {100,20,30,40,101,6,7};\n",
    "int k = 3;\n",
    "System.out.println(subSum(nums,k));"
   ]
  },
  {
   "cell_type": "code",
   "execution_count": 38,
   "metadata": {
    "vscode": {
     "languageId": "java"
    }
   },
   "outputs": [
    {
     "name": "stdout",
     "output_type": "stream",
     "text": [
      "170\n"
     ]
    }
   ],
   "source": [
    "int subSum1(int[] nums, int k){\n",
    "    int windowSum = 0;\n",
    "    int maxSum = 0;\n",
    "\n",
    "    for(int i = 0; i < nums.length; i++) {\n",
    "        windowSum += nums[i];\n",
    "\n",
    "        if (i >= k-1){\n",
    "            maxSum = Math.max(windowSum, maxSum);\n",
    "            windowSum -= nums[i - (k-1)];            \n",
    "        }\n",
    "    }\n",
    "    return maxSum;\n",
    "}\n",
    "\n",
    "int[] nums = {100,20,30,40,100,6,7};\n",
    "int k = 3;\n",
    "System.out.println(subSum1(nums,k));"
   ]
  },
  {
   "cell_type": "markdown",
   "metadata": {},
   "source": [
    "## Largest SubString without repeating characters"
   ]
  },
  {
   "cell_type": "code",
   "execution_count": 47,
   "metadata": {
    "vscode": {
     "languageId": "java"
    }
   },
   "outputs": [
    {
     "name": "stdout",
     "output_type": "stream",
     "text": [
      "3\n"
     ]
    }
   ],
   "source": [
    "import java.util.HashMap;\n",
    "\n",
    "int LargestSubstring(String s){\n",
    "    int left = 0;\n",
    "    int maxLen = 0;\n",
    "\n",
    "    Map<Character, Integer> map = new HashMap<>();\n",
    "\n",
    "    for(int right = 0; right < s.length(); right++) {\n",
    "        char currChar = s.charAt(right);\n",
    "\n",
    "        if(map.containsKey(currChar)){\n",
    "            maxLen = Math.max(maxLen, right-left);\n",
    "            left = map.get(currChar) + 1;\n",
    "        }\n",
    "\n",
    "        map.put(currChar, right);        \n",
    "    }\n",
    "    return maxLen;\n",
    "}\n",
    "\n",
    "\n",
    "String s = \"abcabdefz\";\n",
    "System.out.println(LargestSubstring(s));"
   ]
  },
  {
   "cell_type": "markdown",
   "metadata": {},
   "source": [
    "## Mininum moves to form consecutive 1s"
   ]
  },
  {
   "cell_type": "code",
   "execution_count": 1,
   "metadata": {
    "vscode": {
     "languageId": "java"
    }
   },
   "outputs": [
    {
     "name": "stdout",
     "output_type": "stream",
     "text": [
      "[0, 0, 3, 8]\n",
      "2\n"
     ]
    }
   ],
   "source": [
    "// Wrong\n",
    "\n",
    "\n",
    "\n",
    "public static int minMoves(int[] nums, int k) {\n",
    "    // Step 1: Find positions of all 1's\n",
    "    List<Integer> positions = new ArrayList<>();\n",
    "    for (int i = 0; i < nums.length; i++) {\n",
    "        if (nums[i] == 1) {\n",
    "            positions.add(i);\n",
    "        }\n",
    "    }\n",
    "\n",
    "    int n = positions.size();\n",
    "    // Prefix sum array for efficient distance calculation\n",
    "    int[] prefixSum = new int[n + 1];\n",
    "    for (int i = 0; i < n; i++) {\n",
    "        prefixSum[i + 1] = prefixSum[i] + positions.get(i);\n",
    "    }\n",
    "\n",
    "    System.out.println(Arrays.toString(prefixSum));\n",
    "\n",
    "    int minMoves = Integer.MAX_VALUE;\n",
    "\n",
    "    // Step 2: Sliding window of size k\n",
    "    for (int i = 0; i <= n - k; i++) {\n",
    "        int mid = i + k / 2; // Median position in the current window\n",
    "        int median = positions.get(mid);\n",
    "\n",
    "        // Calculate left and right costs using prefix sums\n",
    "        int leftCost = median * (mid - i) - (prefixSum[mid] - prefixSum[i]);\n",
    "        int rightCost = (prefixSum[i + k] - prefixSum[mid + 1]) - median * (i + k - mid - 1);\n",
    "\n",
    "        // Update minimum moves\n",
    "        minMoves = Math.min(minMoves, leftCost + rightCost);\n",
    "    }\n",
    "\n",
    "    return minMoves;\n",
    "}\n",
    "\n",
    "int[] nums = {1, 0, 0, 1, 0, 1};\n",
    "int k = 2;\n",
    "System.out.println(minMoves(nums, k));"
   ]
  },
  {
   "cell_type": "code",
   "execution_count": 2,
   "metadata": {
    "vscode": {
     "languageId": "java"
    }
   },
   "outputs": [
    {
     "name": "stdout",
     "output_type": "stream",
     "text": [
      "2\n"
     ]
    }
   ],
   "source": [
    "// Wrong\n",
    "\n",
    "public static int minSwaps(int[] nums, int k) {\n",
    "    List<Integer> onesIndices = new ArrayList<>();\n",
    "    \n",
    "    // Store the indices of all 1s in the array\n",
    "    for (int i = 0; i < nums.length; i++) {\n",
    "        if (nums[i] == 1) {\n",
    "            onesIndices.add(i);\n",
    "        }\n",
    "    }\n",
    "\n",
    "    // Get the total count of 1s\n",
    "    int totalOnes = onesIndices.size();\n",
    "    if (totalOnes < k) return -1; // If not enough 1s, return -1\n",
    "\n",
    "    int minSwaps = Integer.MAX_VALUE;\n",
    "    int prefixSum[] = new int[totalOnes + 1];\n",
    "\n",
    "    // Compute prefix sum for ones' indices\n",
    "    for (int i = 0; i < totalOnes; i++) {\n",
    "        prefixSum[i + 1] = prefixSum[i] + onesIndices.get(i);\n",
    "    }\n",
    "\n",
    "    // Sliding window to find the optimal segment of k ones\n",
    "    for (int i = 0; i <= totalOnes - k; i++) {\n",
    "        int mid = i + k / 2; // Median position\n",
    "        int median = onesIndices.get(mid);\n",
    "        int leftCost = median * (mid - i) - (prefixSum[mid] - prefixSum[i]);\n",
    "        int rightCost = (prefixSum[i + k] - prefixSum[mid + 1]) - median * (i + k - (mid + 1));\n",
    "\n",
    "        minSwaps = Math.min(minSwaps, leftCost + rightCost);\n",
    "    }\n",
    "\n",
    "    return minSwaps;\n",
    "}\n",
    "\n",
    "int[] nums = {1, 0, 0, 1, 0, 1};\n",
    "int k = 2;\n",
    "System.out.println(minSwaps(nums, k));"
   ]
  },
  {
   "cell_type": "code",
   "execution_count": null,
   "metadata": {
    "vscode": {
     "languageId": "java"
    }
   },
   "outputs": [
    {
     "name": "stdout",
     "output_type": "stream",
     "text": [
      "1\n"
     ]
    }
   ],
   "source": [
    "public int minMoves(int[] nums, int k) {\n",
    "    ArrayList<Long> A = new ArrayList<Long>(), B = new ArrayList<Long>();\n",
    "\n",
    "      for (int i = 0; i < nums.length; ++i)\n",
    "          if (nums[i] == 1)\n",
    "              A.add((long)i);\n",
    "\n",
    "      long res = Long.MAX_VALUE;\n",
    "      B.add(0L);\n",
    "\n",
    "      for (int i = 0; i < A.size(); ++i)\n",
    "          B.add(B.get(i) + A.get(i));\n",
    "\n",
    "      for (int i = 0; i <  A.size() - k + 1; ++i)\n",
    "          res = Math.min(res, B.get(i + k) - B.get(k / 2 + i) - B.get((k + 1) / 2 + i) + B.get(i));\n",
    "\n",
    "      res -= (k / 2) * ((k + 1) / 2);\n",
    "\n",
    "      return (int)res;\n",
    "      \n",
    "  }\n",
    "\n",
    "int[] nums = {1, 0, 0, 1, 0, 1};\n",
    "int k = 2;\n",
    "System.out.println(minMoves(nums, k));"
   ]
  },
  {
   "cell_type": "code",
   "execution_count": 23,
   "metadata": {
    "vscode": {
     "languageId": "java"
    }
   },
   "outputs": [
    {
     "data": {
      "text/plain": [
       "true"
      ]
     },
     "execution_count": 23,
     "metadata": {},
     "output_type": "execute_result"
    }
   ],
   "source": [
    "\"12345B\".matches(\"[0-9a-zA-Z]+\");"
   ]
  },
  {
   "cell_type": "code",
   "execution_count": 48,
   "metadata": {
    "vscode": {
     "languageId": "java"
    }
   },
   "outputs": [
    {
     "data": {
      "text/plain": [
       "true"
      ]
     },
     "execution_count": 48,
     "metadata": {},
     "output_type": "execute_result"
    }
   ],
   "source": [
    "\"100011\".matches(\"[01]+\");"
   ]
  },
  {
   "cell_type": "code",
   "execution_count": 35,
   "metadata": {
    "vscode": {
     "languageId": "java"
    }
   },
   "outputs": [
    {
     "data": {
      "text/plain": [
       "true"
      ]
     },
     "execution_count": 35,
     "metadata": {},
     "output_type": "execute_result"
    }
   ],
   "source": [
    "\"01010101000111001\".matches(\".*[01].*\");"
   ]
  },
  {
   "cell_type": "code",
   "execution_count": 38,
   "metadata": {
    "vscode": {
     "languageId": "java"
    }
   },
   "outputs": [
    {
     "data": {
      "text/plain": [
       "false"
      ]
     },
     "execution_count": 38,
     "metadata": {},
     "output_type": "execute_result"
    }
   ],
   "source": [
    "String collection = \"01\";\n",
    "char ch = '1';\n",
    "\n",
    "collection.indexOf(ch) == -1;"
   ]
  },
  {
   "cell_type": "code",
   "execution_count": 53,
   "metadata": {
    "vscode": {
     "languageId": "java"
    }
   },
   "outputs": [
    {
     "name": "stdout",
     "output_type": "stream",
     "text": [
      "1 when i: 0, j: 1\n",
      "1 when i: 3, j: 4\n",
      "10 when i: 3, j: 5\n",
      "101 when i: 3, j: 6\n",
      "0 when i: 4, j: 5\n",
      "01 when i: 4, j: 6\n",
      "1 when i: 5, j: 6\n",
      "1 when i: 11, j: 12\n",
      "11 when i: 11, j: 13\n",
      "1 when i: 12, j: 13\n",
      "1 when i: 16, j: 17\n",
      "1 when i: 20, j: 21\n",
      "11 when i: 20, j: 22\n",
      "111 when i: 20, j: 23\n",
      "1111 when i: 20, j: 24\n",
      "1 when i: 21, j: 22\n",
      "11 when i: 21, j: 23\n",
      "111 when i: 21, j: 24\n",
      "1 when i: 22, j: 23\n",
      "11 when i: 22, j: 24\n",
      "1 when i: 23, j: 24\n",
      "1 when i: 28, j: 29\n",
      "10 when i: 28, j: 30\n",
      "100 when i: 28, j: 31\n",
      "1001 when i: 28, j: 32\n",
      "0 when i: 29, j: 30\n",
      "00 when i: 29, j: 31\n",
      "001 when i: 29, j: 32\n",
      "0 when i: 30, j: 31\n",
      "01 when i: 30, j: 32\n",
      "1 when i: 31, j: 32\n",
      "[1, 1, 10, 101, 0, 01, 1, 1, 11, 1, 1, 1, 11, 111, 1111, 1, 11, 111, 1, 11, 1, 1, 10, 100, 1001, 0, 00, 001, 0, 01, 1]\n"
     ]
    }
   ],
   "source": [
    "\n",
    "public static List<String> getBinarySubstringsBruteForce(String s) {\n",
    "    List<String> binarySubstrings = new ArrayList<>();\n",
    "    int n = s.length();\n",
    "    for (int i = 0; i < n; i++) {\n",
    "        for (int j = i; j < n; j++) {\n",
    "            String sub = s.substring(i, j + 1);\n",
    "            if (sub.matches(\"[01]+\")) {  // Check if it contains only '0' and '1'\n",
    "                binarySubstrings.add(sub);\n",
    "                System.out.println(sub + \" when i: \" + i + \", j: \" + (j+1));\n",
    "            } else {\n",
    "                break;  // Stop expanding if a non-binary character is found\n",
    "            }\n",
    "        }\n",
    "    }\n",
    "    return binarySubstrings;\n",
    "}\n",
    "\n",
    "String input = \"1as101adgfg11fdf1cdf1111fdfd1001ffd\";\n",
    "System.out.println(getBinarySubstringsBruteForce(input));\n"
   ]
  },
  {
   "cell_type": "code",
   "execution_count": 18,
   "metadata": {
    "vscode": {
     "languageId": "java"
    }
   },
   "outputs": [
    {
     "name": "stdout",
     "output_type": "stream",
     "text": [
      "1. Arr2: [1, 1, 1, 1, 1]\n",
      "2. Arr2: [1, 2, 1, 1, 1]\n",
      "3. Arr2: [1, 4, 3, 2, 1]\n",
      "11\n"
     ]
    }
   ],
   "source": [
    "int minGifts(int[] arr){\n",
    "\n",
    "    int sum = 0;    \n",
    "    int len = arr.length;    \n",
    "    int[] arr2 = new int[len];\n",
    "    \n",
    "    for(int i = 0; i < len; i++){\n",
    "        arr2[i] = 1;    \n",
    "    }\n",
    "\n",
    "    System.out.println(\"1. Arr2: \" + Arrays.toString(arr2));\n",
    "    \n",
    "    for(int i = 0; i < len-1; i++){\n",
    "        if(arr[i] < arr[i+1]){\n",
    "            arr2[i+1] = arr2[i] + 1;\n",
    "        }\n",
    "    }\n",
    "\n",
    "    System.out.println(\"2. Arr2: \" + Arrays.toString(arr2));\n",
    "    \n",
    "    \n",
    "    for(int i = len-1; i > 0; i--){\n",
    "        if(arr[i] < arr[i-1]){\n",
    "            arr2[i-1] = Math.max(arr2[i]+1, (arr2[i-1]));\n",
    "        }\n",
    "    }\n",
    "\n",
    "    System.out.println(\"3. Arr2: \" + Arrays.toString(arr2));\n",
    "    \n",
    "    \n",
    "    for(int i = 0; i < len; i++){\n",
    "        sum+=arr2[i];\n",
    "    }\n",
    "    \n",
    "    return sum;\n",
    "    \n",
    "}\n",
    "\n",
    "\n",
    "\n",
    "int[] arr = {1,10,8,6,1};\n",
    "\n",
    "System.out.println( minGifts(arr));\n",
    "    \n",
    "    \n",
    "    \n"
   ]
  },
  {
   "cell_type": "code",
   "execution_count": null,
   "metadata": {
    "vscode": {
     "languageId": "java"
    }
   },
   "outputs": [
    {
     "ename": "CompilationException",
     "evalue": "",
     "output_type": "error",
     "traceback": [
      "\u001b[1m\u001b[30m|   \u001b[1m\u001b[30m    return \u001b[0m\u001b[1m\u001b[30m\u001b[41msum\u001b[0m\u001b[1m\u001b[30m?sum<10:addDigits(sum);\u001b[0m",
      "\u001b[1m\u001b[31mincompatible types: int cannot be converted to boolean\u001b[0m",
      "",
      "\u001b[1m\u001b[30m|   \u001b[1m\u001b[30m    return \u001b[0m\u001b[1m\u001b[30m\u001b[41msum?sum<10:addDigits(sum)\u001b[0m\u001b[1m\u001b[30m;\u001b[0m",
      "\u001b[1m\u001b[31mincompatible types: java.lang.Object&java.io.Serializable&java.lang.Comparable<? extends java.lang.Object&java.io.Serializable&java.lang.Comparable<?>&java.lang.constant.Constable>&java.lang.constant.Constable cannot be converted to int\u001b[0m",
      ""
     ]
    }
   ],
   "source": [
    "public int addDigits(int num) {\n",
    "\n",
    "    if(num < 10) return num;\n",
    "\n",
    "    int sum = 0;\n",
    "    int n = 0;\n",
    "\n",
    "    while(num > 0){\n",
    "        n = num%10;\n",
    "        sum += n;\n",
    "        num = num/10;\n",
    "    }\n",
    "\n",
    "    if(sum > 9){\n",
    "        System.out.println(\"ran:\");\n",
    "        addDigits(sum);\n",
    "    } else {\n",
    "\n",
    "        System.out.println(sum);\n",
    "        return sum;\n",
    "    }\n",
    "\n",
    "    // return sum?sum<10:addDigits(sum);\n",
    "\n",
    "\n",
    "    \n",
    "}\n",
    "\n",
    "addDigits(38);"
   ]
  },
  {
   "cell_type": "code",
   "execution_count": 7,
   "metadata": {
    "vscode": {
     "languageId": "java"
    }
   },
   "outputs": [
    {
     "name": "stdout",
     "output_type": "stream",
     "text": [
      "Ran: 11\n",
      "Ran: 2\n",
      "2\n"
     ]
    }
   ],
   "source": [
    "public int addDigits(int num) {\n",
    "    if (num < 10) return num; // Base case\n",
    "\n",
    "    int sum = 0;\n",
    "\n",
    "    while (num > 0) {\n",
    "        sum += num % 10;\n",
    "        num /= 10;\n",
    "    }\n",
    "\n",
    "    System.out.println(\"Ran: \" + sum); // Debugging output\n",
    "    return addDigits(sum); // Recursively return the reduced sum\n",
    "}\n",
    "int n = addDigits(38);\n",
    "System.out.println(n);"
   ]
  },
  {
   "cell_type": "code",
   "execution_count": 8,
   "metadata": {
    "vscode": {
     "languageId": "java"
    }
   },
   "outputs": [
    {
     "name": "stdout",
     "output_type": "stream",
     "text": [
      "[1, 2, 3, 4, 5, 6, 7, 9, 7, 7, 9, 9, 9, 9, 9, 9, 9]\n",
      "8\n"
     ]
    }
   ],
   "source": [
    "int removeDuplicates(int[] arr){\n",
    "    int n = arr.length;\n",
    "\n",
    "    int p = 0;\n",
    "    int q = 1;\n",
    "\n",
    "    while(q<n){\n",
    "        if(arr[p] == arr[q]){\n",
    "            q++;\n",
    "        } else {\n",
    "            p++;\n",
    "            arr[p] = arr[q];\n",
    "            q++;\n",
    "        }\n",
    "    }\n",
    "\n",
    "    System.out.println(Arrays.toString(arr));\n",
    "    return p+1;\n",
    "\n",
    "\n",
    "}\n",
    "\n",
    "int[] arr = {1,2,3,4,5,6,7,7,7,7,9,9,9,9,9,9,9};\n",
    "int ret = removeDuplicates(arr);\n",
    "System.out.println(ret);"
   ]
  },
  {
   "cell_type": "code",
   "execution_count": 15,
   "metadata": {
    "vscode": {
     "languageId": "java"
    }
   },
   "outputs": [
    {
     "name": "stdout",
     "output_type": "stream",
     "text": [
      "Sum1: 15\n",
      "Sum1: 20\n",
      "Sum1: 25\n",
      "Sum1: 30\n",
      "Sum1: 35\n",
      "Sum1: 40\n",
      "40\n"
     ]
    }
   ],
   "source": [
    "int windowSum(int[] arr, int k){\n",
    "    int p = 0;\n",
    "    int q;\n",
    "\n",
    "    int currSum = 0;\n",
    "    // int max = Integer.MIN_VALUE;\n",
    "\n",
    "    for(q = 0; q < k; q++){\n",
    "        currSum += arr[q];\n",
    "    }\n",
    "\n",
    "    System.out.println(\"Sum1: \" + currSum);\n",
    "\n",
    "    int max = currSum;\n",
    "\n",
    "    while(q < arr.length) {\n",
    "        currSum = currSum - arr[p++] + arr[q++];    \n",
    "        \n",
    "        if(currSum > max) max = currSum;\n",
    "        System.out.println(\"Sum1: \" + max);\n",
    "    }\n",
    "\n",
    "    return max;\n",
    "}\n",
    "\n",
    "\n",
    "\n",
    "\n",
    "int[] arr = {1,2,3,4,5,6,7,8,9,10};\n",
    "int k = 5;\n",
    "int ret = windowSum(arr,k);\n",
    "System.out.println(ret);"
   ]
  },
  {
   "cell_type": "markdown",
   "metadata": {},
   "source": [
    "# Longest SubString without Repeating characters"
   ]
  },
  {
   "cell_type": "code",
   "execution_count": 6,
   "metadata": {
    "vscode": {
     "languageId": "java"
    }
   },
   "outputs": [
    {
     "data": {
      "text/plain": [
       "1"
      ]
     },
     "execution_count": 6,
     "metadata": {},
     "output_type": "execute_result"
    }
   ],
   "source": [
    "import java.util.HashMap;\n",
    "\n",
    "int longestSubtr(String s){\n",
    "    int n = s.length();\n",
    "\n",
    "    int left = 0;\n",
    "    int maxLenght = Integer.MIN_VALUE;\n",
    "\n",
    "    Map<Character, Integer> map = new HashMap<>();\n",
    "\n",
    "    for(int right = 0; right < n; right++){\n",
    "        char currChar = s.charAt(right);\n",
    "\n",
    "        if(map.containsKey(currChar)){\n",
    "            left = Math.max(left, map.get(currChar)+1);\n",
    "        }\n",
    "\n",
    "        map.put(currChar,right);\n",
    "        maxLenght = Math.max(maxLenght, right - left + 1);\n",
    "\n",
    "    }\n",
    "\n",
    "    return maxLenght;\n",
    "}\n",
    "\n",
    "\n",
    "\n",
    "\n",
    "String s = \"bbbbbb\";\n",
    "longestSubtr(s);"
   ]
  },
  {
   "cell_type": "markdown",
   "metadata": {},
   "source": [
    "## Valid Parethesis"
   ]
  },
  {
   "cell_type": "code",
   "execution_count": null,
   "metadata": {
    "vscode": {
     "languageId": "java"
    }
   },
   "outputs": [
    {
     "data": {
      "text/plain": [
       "true"
      ]
     },
     "execution_count": 12,
     "metadata": {},
     "output_type": "execute_result"
    }
   ],
   "source": [
    "boolean check(String s){\n",
    "\n",
    "    Stack<Character> stack = new Stack<>();\n",
    "    Map<Character, Character> map = new HashMap<>();\n",
    "    map.put('(',')');\n",
    "    map.put('{','}');\n",
    "    map.put('[',']');\n",
    "\n",
    "    for(int i = 0; i < s.length(); i++){\n",
    "        char currChar = s.charAt(i);\n",
    "\n",
    "        if(map.containsKey(currChar)){\n",
    "            stack.add(currChar);\n",
    "        } else {\n",
    "            char pop = stack.pop();\n",
    "            if(currChar != map.get(pop)) return false;\n",
    "        }\n",
    "    }\n",
    "\n",
    "    if()\n",
    "\n",
    "    return true;\n",
    "}\n",
    "\n",
    "\n",
    "String s = \"(){[]}\";\n",
    "check(s);"
   ]
  },
  {
   "cell_type": "markdown",
   "metadata": {},
   "source": [
    "## Maximum subArray whose sum is equal to 1"
   ]
  },
  {
   "cell_type": "code",
   "execution_count": null,
   "metadata": {
    "vscode": {
     "languageId": "java"
    }
   },
   "outputs": [],
   "source": [
    "import java.util.Scanner;\n",
    "\n",
    "    \n",
    "    void compare(int[] a, int[] b){\n",
    "        int[] arr = new int[2];\n",
    "        \n",
    "        int as = 0;\n",
    "        int bs = 0;\n",
    "        \n",
    "        for(int i = 0; i < a.length; i++){\n",
    "            if(a[i] > b[i]) as++;\n",
    "            if(a[i] < b[i]) bs++;\n",
    "        }\n",
    "        \n",
    "        arr[0] = as;\n",
    "        arr[1] = bs;       \n",
    "        \n",
    "        System.out.print(as +\" \"+ bs); \n",
    "    }\n",
    "    \n",
    "    \n",
    "    Scanner input = new Scanner(System.in);\n",
    "        \n",
    "        int[] alice = new int[3];\n",
    "        int[] bob = new int[3];\n",
    "        \n",
    "        for(int i = 0; i < 3; i++){\n",
    "            alice[i] = input.nextInt();\n",
    "        }\n",
    "        \n",
    "        for(int i = 0; i < 3; i++){\n",
    "            bob[i] = input.nextInt();\n",
    "        }\n",
    "        \n",
    "        compare(alice, bob);\n",
    "        \n",
    "        // int[] arr = new int[2];\n",
    "        \n",
    "        // int as = 0;\n",
    "        // int bs = 0;\n",
    "        \n",
    "        // for(int i = 0; i < a.length; i++){\n",
    "        //     if(al[i] > b[i]) as++;\n",
    "        //     if(a[i] < b[i]) bs++;\n",
    "        // }\n",
    "        \n",
    "        // arr[0] = as;\n",
    "        // arr[1] = bs;\n",
    "        \n",
    "        input.close();\n",
    "        \n"
   ]
  },
  {
   "cell_type": "code",
   "execution_count": 13,
   "metadata": {
    "vscode": {
     "languageId": "java"
    }
   },
   "outputs": [
    {
     "name": "stdout",
     "output_type": "stream",
     "text": [
      "80\n",
      "67\n",
      "40\n",
      "33\n",
      "97\n",
      "100\n",
      "40\n",
      "81\n"
     ]
    }
   ],
   "source": [
    "  \n",
    "    static void gradingStudents(int[] arr){        \n",
    "        \n",
    "        for(int i = 0; i < arr.length; i++){\n",
    "            if(arr[i] >= 38 && arr[i] < 100){                \n",
    "                int lastDig = arr[i]%10;\n",
    "                \n",
    "                if(lastDig > 5){\n",
    "                    if((10 - lastDig) < 3){\n",
    "                        arr[i] = arr[i] + (10-lastDig);\n",
    "                    } \n",
    "                } else {\n",
    "                    if((5 - lastDig) < 3){\n",
    "                        arr[i] = arr[i] + (5-lastDig);\n",
    "                    }                     \n",
    "                } \n",
    "            }           \n",
    "            \n",
    "        }\n",
    "        \n",
    "        for(int ele : arr){\n",
    "            System.out.println(ele);\n",
    "        }\n",
    "    }\n",
    "    \n",
    "      \n",
    "        // Scanner input = new Scanner(System.in);\n",
    "        \n",
    "        // int n =input.nextInt();        \n",
    "        // int[] stArr = new int[n];\n",
    "        \n",
    "        // for(int i =0; i< n; i++){\n",
    "        //     stArr[i] = input.nextInt();\n",
    "        // }\n",
    "\n",
    "        int[] stArr = {78,67,38,33,97,100,39,81};  \n",
    "        \n",
    "        gradingStudents(stArr);\n",
    "        // input.close();\n",
    "\n"
   ]
  },
  {
   "cell_type": "code",
   "execution_count": 20,
   "metadata": {
    "vscode": {
     "languageId": "java"
    }
   },
   "outputs": [
    {
     "name": "stdout",
     "output_type": "stream",
     "text": [
      "80\n",
      "67\n",
      "40\n",
      "33\n",
      "97\n",
      "100\n",
      "40\n",
      "81\n",
      "100\n"
     ]
    }
   ],
   "source": [
    "static void gradingStudents(int[] arr){        \n",
    "        \n",
    "    for(int i = 0; i < arr.length; i++){\n",
    "        if(arr[i] >= 38){                \n",
    "            int lastDig = arr[i]%5;\n",
    "\n",
    "            if((5 - lastDig) < 3){\n",
    "                arr[i] = arr[i] + 5-lastDig;\n",
    "            }\n",
    "        }\n",
    "\n",
    "        System.out.println(arr[i]);\n",
    "    }    \n",
    "}\n",
    "\n",
    "int[] stArr = {78,67,38,33,97,100,39,81, 98}; \n",
    "gradingStudents(stArr);"
   ]
  },
  {
   "cell_type": "code",
   "execution_count": 28,
   "metadata": {
    "vscode": {
     "languageId": "java"
    }
   },
   "outputs": [
    {
     "name": "stdout",
     "output_type": "stream",
     "text": [
      "      #\n",
      "     ##\n",
      "    ###\n",
      "   ####\n",
      "  #####\n",
      " ######\n",
      "#######\n"
     ]
    }
   ],
   "source": [
    "int n = 6;\n",
    "\n",
    "for(int i = 0; i <= n; i++){\n",
    "    for(int j = 0; j <= n; j++){\n",
    "        if(j >= n-i){\n",
    "            System.out.print(\"#\");                \n",
    "        } else {\n",
    "            System.out.print(\" \");\n",
    "        }            \n",
    "    }\n",
    "    System.out.println();\n",
    "}"
   ]
  },
  {
   "cell_type": "code",
   "execution_count": 99,
   "metadata": {
    "vscode": {
     "languageId": "java"
    }
   },
   "outputs": [
    {
     "name": "stdout",
     "output_type": "stream",
     "text": [
      "4\n"
     ]
    }
   ],
   "source": [
    "void subArraySum(int[] arr, int n){\n",
    "    int currSum = 0;\n",
    "    int count = 0;\n",
    "    int q = 0;\n",
    "\n",
    "    for(int i = 0; i < arr.length; i++) {\n",
    "\n",
    "        currSum += arr[i];\n",
    "\n",
    "        if(currSum == n){\n",
    "            count++;\n",
    "            if(i == arr.length-1 && q!=i) i = ++q;\n",
    "        } else if (currSum > n){\n",
    "            // count++;\n",
    "            q++;\n",
    "            currSum = arr[q];\n",
    "            i = q;\n",
    "        } else {\n",
    "            continue;\n",
    "        }        \n",
    "    }\n",
    "\n",
    "    if(arr[q] == n) count++;\n",
    "\n",
    "    System.out.println(count);\n",
    "\n",
    "\n",
    "}\n",
    "\n",
    "// 1,0,0,0,1,\n",
    "// 1,0,0,0,1,0\n",
    "// 0,0,0,1,0,1\n",
    "// 0,0,1,0,1\n",
    "// 0,1,0,1\n",
    "// 1,0,1\n",
    "\n",
    "    // q\n",
    "// 1,0,0,0,1,0,1\n",
    "            // i\n",
    "\n",
    "\n",
    "int[] arr = {1,0,0,1,0,1};\n",
    "int n = 2;\n",
    "subArraySum(arr,n);"
   ]
  },
  {
   "cell_type": "code",
   "execution_count": 32,
   "metadata": {
    "vscode": {
     "languageId": "java"
    }
   },
   "outputs": [
    {
     "name": "stdout",
     "output_type": "stream",
     "text": [
      "2\n"
     ]
    }
   ],
   "source": [
    "void subArraySum(int[] arr, int n){\n",
    "    int currSum = 0;\n",
    "    int count = 0;\n",
    "    int q = 0;\n",
    "\n",
    "    for(int i = 0; i < arr.length; i++) {\n",
    "\n",
    "        currSum += arr[i];\n",
    "\n",
    "        if(currSum == n){\n",
    "            count++;\n",
    "            // if(i == arr.length-1 && q!=i) i = ++q;\n",
    "        } else if (currSum > n){\n",
    "            // count++;\n",
    "            if(arr.length-1 > q){\n",
    "                currSum -= arr[q];\n",
    "                // if(currSum == n) count ++;\n",
    "                i = q;\n",
    "                q++;\n",
    "            } \n",
    "\n",
    "        } else {\n",
    "            continue;\n",
    "        }        \n",
    "    }\n",
    "\n",
    "    count++;\n",
    "\n",
    "    System.out.println(count);\n",
    "\n",
    "\n",
    "}\n",
    "\n",
    "\n",
    "\n",
    "int[] arr = {1,2,1,2,1};\n",
    "int n = 3;\n",
    "subArraySum(arr,n);"
   ]
  },
  {
   "cell_type": "code",
   "execution_count": 35,
   "metadata": {
    "vscode": {
     "languageId": "java"
    }
   },
   "outputs": [
    {
     "name": "stdout",
     "output_type": "stream",
     "text": [
      "0 a\n",
      "2 b\n",
      "5 c\n",
      "7 d\n",
      "8 d\n",
      "9 d\n",
      "a2 b3 c2 d3 d2 d \n"
     ]
    }
   ],
   "source": [
    "\n",
    "\n",
    "void compressString(String s){\n",
    "    String sb = \"\";\n",
    "    int count = 0;\n",
    "    String currCh = \"\";\n",
    "\n",
    "    // StringBuilder sb = new StringBuilder(\"\");\n",
    "\n",
    "    for(int i = 0; i < s.length(); i++) {\n",
    "        // String currCh = s.substring(i, i+1);\n",
    "        currCh = s.charAt(i) + \"\";\n",
    "        System.out.print(i + \" \");\n",
    "        System.out.println(currCh);\n",
    "        count = 0;\n",
    "\n",
    "        for(int j = i; j < s.length(); j++) {\n",
    "            if (s.charAt(i) == s.charAt(j)){\n",
    "                count++;                \n",
    "            } else {\n",
    "                if(i != s.length()-1) i = j-1;                \n",
    "                break;\n",
    "            }\n",
    "\n",
    "            \n",
    "        }\n",
    "\n",
    "        if(count == 1){\n",
    "            // sb.append(currCh);\n",
    "            sb += currCh;\n",
    "\n",
    "        } else {\n",
    "            // sb.append(currCh + count + \"\");\n",
    "            sb += currCh + count;\n",
    "        }\n",
    "\n",
    "        sb+= \" \";\n",
    "        \n",
    "    }\n",
    "\n",
    "    // if(count == 1){\n",
    "    //     sb += currCh + \"\";\n",
    "    // } else {\n",
    "    //     sb += currCh + count + \"\";\n",
    "    // }\n",
    "\n",
    "\n",
    "\n",
    "    System.out.println(sb);\n",
    "}\n",
    "\n",
    "String s = \"aabbbccddd\";\n",
    "compressString(s);"
   ]
  },
  {
   "cell_type": "code",
   "execution_count": null,
   "metadata": {
    "vscode": {
     "languageId": "java"
    }
   },
   "outputs": [
    {
     "name": "stdout",
     "output_type": "stream",
     "text": [
      "0 a\n",
      "2 b\n",
      "5 c\n",
      "7 d\n",
      "8 d\n",
      "9 d\n",
      "a2 b3 c2 d3 d2 d \n"
     ]
    }
   ],
   "source": [
    "\n",
    "\n",
    "void compressString(String s){\n",
    "    String sb = \"\";\n",
    "    int count = 0;\n",
    "    String currCh = \"\";\n",
    "\n",
    "    // StringBuilder sb = new StringBuilder(\"\");\n",
    "\n",
    "    int i = 0;\n",
    "    while(i < s.length()) {\n",
    "        // String currCh = s.substring(i, i+1);\n",
    "        currCh = s.charAt(i) + \"\";\n",
    "        System.out.print(i + \" \");\n",
    "        System.out.println(currCh);\n",
    "        count = 0;\n",
    "\n",
    "        int j = i;\n",
    "        while(j < s.length()) {\n",
    "            if (s.charAt(i) == s.charAt(j)){\n",
    "                count++;                \n",
    "            } else {\n",
    "                i = j;               \n",
    "                break;\n",
    "            }\n",
    "            j++;            \n",
    "        }\n",
    "        // i++;\n",
    "        \n",
    "\n",
    "        if(count == 1){\n",
    "            // sb.append(currCh);\n",
    "            sb += currCh;\n",
    "\n",
    "        } else {\n",
    "            // sb.append(currCh + count + \"\");\n",
    "            sb += currCh + count;\n",
    "        }\n",
    "\n",
    "        sb+= \" \";\n",
    "        \n",
    "    }\n",
    "\n",
    "    // if(count == 1){\n",
    "    //     sb += currCh + \"\";\n",
    "    // } else {\n",
    "    //     sb += currCh + count + \"\";\n",
    "    // }\n",
    "\n",
    "\n",
    "\n",
    "    System.out.println(sb);\n",
    "}\n",
    "\n",
    "String s = \"aabbbccddd\";\n",
    "compressString(s);"
   ]
  },
  {
   "cell_type": "code",
   "execution_count": 21,
   "metadata": {
    "vscode": {
     "languageId": "java"
    }
   },
   "outputs": [],
   "source": [
    "void compressString(String s){\n",
    "    int n = s.length();\n",
    "\n",
    "    if(n < 1) return;\n",
    "\n",
    "    StringBuilder sb = new StringBuilder();\n",
    "\n",
    "    int count = 1;\n",
    "\n",
    "    for(int i = 1; i < n; i++){\n",
    "        if(s.charAt(i) == s.charAt(i-1)){\n",
    "            count++;\n",
    "        } else {\n",
    "            sb.append(s.charAt(i-1));\n",
    "            if(count > 1){\n",
    "                sb.append(count);\n",
    "            }\n",
    "            count = 1;\n",
    "        }\n",
    "    }\n",
    "\n",
    "    sb.append(s.charAt(n-1));\n",
    "    if(count > 1) sb.append(count);\n",
    "\n",
    "\n",
    "\n",
    "    System.out.println(sb);\n",
    "}\n",
    "\n",
    "\n",
    "String s = \"\";\n",
    "compressString(s);"
   ]
  },
  {
   "cell_type": "markdown",
   "metadata": {},
   "source": [
    "## Rotate the array to 90Degree\n",
    "```plaintext\n",
    "1 2 3       7 4 1\n",
    "4 5 6  -->  8 5 2\n",
    "7 8 9       9 6 3\n",
    "\n",
    "and 180Degree\n",
    "\n",
    "1 2 3       9 8 7\n",
    "4 5 6  -->  6 5 4\n",
    "7 8 9       3 2 1\n",
    "```\n"
   ]
  },
  {
   "cell_type": "code",
   "execution_count": 24,
   "metadata": {
    "vscode": {
     "languageId": "java"
    }
   },
   "outputs": [
    {
     "name": "stdout",
     "output_type": "stream",
     "text": [
      "[[9, 8, 7], [6, 5, 4], [3, 2, 1]]\n",
      "[[9, 8, 7], [6, 5, 4], [3, 2, 1]]\n"
     ]
    }
   ],
   "source": [
    "// 180 degree\n",
    "void rotate(int[][] arr){\n",
    "\n",
    "    int n = 3;\n",
    "    int m = 3;\n",
    "\n",
    "    int[][] arr2 = new int[3][3];\n",
    "\n",
    "    for(int i = 0; i < m; i++) {\n",
    "        for(int j = 0; j < n; j++) {\n",
    "            arr2[n-i-1][n-j-1] = arr[i][j];           \n",
    "        }        \n",
    "    }\n",
    "    System.out.println(Arrays.deepToString(arr2));\n",
    "\n",
    "    String s = Arrays.deepToString(arr2);\n",
    "    System.out.println(s);\n",
    "\n",
    "}\n",
    "\n",
    "int[][] arr = {{1,2,3},{4,5,6},{7,8,9}};\n",
    "rotate(arr);\n",
    "\n",
    "// learn how to sort two dimensional arrays and arraylist"
   ]
  },
  {
   "cell_type": "code",
   "execution_count": 7,
   "metadata": {
    "vscode": {
     "languageId": "java"
    }
   },
   "outputs": [
    {
     "name": "stdout",
     "output_type": "stream",
     "text": [
      "[[7, 4, 1], [8, 5, 2], [9, 6, 3]]\n",
      "[[7, 4, 1], [8, 5, 2], [9, 6, 3]]\n"
     ]
    }
   ],
   "source": [
    "void rotate(int[][] arr){\n",
    "\n",
    "    int n = 3;\n",
    "    int m = 3;\n",
    "\n",
    "    int[][] arr2 = new int[3][3];\n",
    "\n",
    "    for(int i = 0; i < m; i++) {\n",
    "        for(int j = 0; j < n; j++) {\n",
    "            arr2[j][n-i-1] = arr[i][j];           \n",
    "        }        \n",
    "    }\n",
    "    System.out.println(Arrays.deepToString(arr2));\n",
    "\n",
    "    String s = Arrays.deepToString(arr2);\n",
    "    System.out.println(s);\n",
    "\n",
    "}\n",
    "\n",
    "int[][] arr = {{1,2,3},{4,5,6},{7,8,9}};\n",
    "rotate(arr);\n",
    "\n",
    "// learn how to sort two dimensional arrays and arraylist"
   ]
  },
  {
   "cell_type": "code",
   "execution_count": 17,
   "metadata": {
    "vscode": {
     "languageId": "java"
    }
   },
   "outputs": [
    {
     "name": "stdout",
     "output_type": "stream",
     "text": [
      "[[4, 5, 6], [13, 9, 9], [7, 8, 9]]\n"
     ]
    }
   ],
   "source": [
    "int[][] arr3 = {{13,9,9},{4,5,6},{7,8,9}};\n",
    "Arrays.sort(arr3, (a,b) -> Integer.compare(a[2],b[2]));\n",
    "System.out.println(Arrays.deepToString(arr3));"
   ]
  },
  {
   "cell_type": "code",
   "execution_count": null,
   "metadata": {
    "vscode": {
     "languageId": "java"
    }
   },
   "outputs": [
    {
     "name": "stdout",
     "output_type": "stream",
     "text": [
      "[1, 1, 2, 2, 4, 5, 6, 6, 6, 8]\n"
     ]
    },
    {
     "ename": "CompilationException",
     "evalue": "",
     "output_type": "error",
     "traceback": [
      "\u001b[1m\u001b[30m|   \u001b[1m\u001b[30m\u001b[0m\u001b[1m\u001b[30m\u001b[41mArrays.sort\u001b[0m\u001b[1m\u001b[30m(arr, (a,b) -> Integer.compare(a,b));\u001b[0m",
      "\u001b[1m\u001b[31mno suitable method found for sort(int[],(a,b)->Int[...]a, b))\u001b[0m",
      "\u001b[1m\u001b[31m    method java.util.Arrays.<T>sort(T[],java.util.Comparator<? super T>) is not applicable\u001b[0m",
      "\u001b[1m\u001b[31m      (inference variable T has incompatible bounds\u001b[0m",
      "\u001b[1m\u001b[31m        equality constraints: int\u001b[0m",
      "\u001b[1m\u001b[31m        upper bounds: java.lang.Object)\u001b[0m",
      "\u001b[1m\u001b[31m    method java.util.Arrays.<T>sort(T[],int,int,java.util.Comparator<? super T>) is not applicable\u001b[0m",
      "\u001b[1m\u001b[31m      (cannot infer type-variable(s) T\u001b[0m",
      "\u001b[1m\u001b[31m        (actual and formal argument lists differ in length))\u001b[0m",
      ""
     ]
    }
   ],
   "source": [
    "int[] arr = {1,6,2,6,8,5,2,1,4,6};\n",
    "Arrays.sort(arr);\n",
    "System.out.println(Arrays.toString(arr));\n",
    "\n",
    "\n",
    "\n",
    "Arrays.sort(arr, (a,b) -> Integer.compare(a,b));\n",
    "\n",
    "System.out.println(Arrays.toString(arr));"
   ]
  },
  {
   "cell_type": "code",
   "execution_count": 22,
   "metadata": {
    "vscode": {
     "languageId": "java"
    }
   },
   "outputs": [
    {
     "name": "stdout",
     "output_type": "stream",
     "text": [
      "[8, 6, 6, 6, 5, 4, 2, 2, 1, 1]\n"
     ]
    }
   ],
   "source": [
    "Integer[] arry = new Integer[arr.length];\n",
    "\n",
    "for(int i = 0; i < arr.length; i++) {\n",
    "    arry[i] = arr[i];\n",
    "    \n",
    "}\n",
    "\n",
    "Arrays.sort(arry, Collections.reverseOrder());\n",
    "System.out.println(Arrays.toString(arry));"
   ]
  },
  {
   "cell_type": "code",
   "execution_count": 20,
   "metadata": {
    "vscode": {
     "languageId": "java"
    }
   },
   "outputs": [
    {
     "name": "stdout",
     "output_type": "stream",
     "text": [
      "[8, 6, 6, 6, 5, 4, 2, 2, 1, 1]\n"
     ]
    }
   ],
   "source": [
    "Integer[] intArr= {1,6,2,6,8,5,2,1,4,6};\n",
    "\n",
    "Arrays.sort(intArr, Collections.reverseOrder());\n",
    "\n",
    "System.out.println(Arrays.toString(intArr));\n"
   ]
  },
  {
   "cell_type": "code",
   "execution_count": 5,
   "metadata": {
    "vscode": {
     "languageId": "java"
    }
   },
   "outputs": [
    {
     "ename": "CompilationException",
     "evalue": "",
     "output_type": "error",
     "traceback": [
      "\u001b[1m\u001b[30m|   \u001b[1m\u001b[30m    return new \u001b[0m\u001b[1m\u001b[30m\u001b[41mArrayList<>\u001b[0m\u001b[1m\u001b[30m(res.values());\u001b[0m",
      "\u001b[1m\u001b[31mincompatible types: cannot infer type arguments for java.util.ArrayList<>\u001b[0m",
      "\u001b[1m\u001b[31m    reason: inference variable E has incompatible bounds\u001b[0m",
      "\u001b[1m\u001b[31m      equality constraints: java.lang.String\u001b[0m",
      "\u001b[1m\u001b[31m      lower bounds: java.util.ArrayList<java.lang.String>\u001b[0m",
      ""
     ]
    }
   ],
   "source": [
    "public ArrayList<String> groupAnagrams(String[] strs) {\n",
    "    Map<String, ArrayList<String>> res = new HashMap<>();\n",
    "    for (String s : strs) {\n",
    "        char[] charArray = s.toCharArray();\n",
    "        Arrays.sort(charArray);\n",
    "        String sortedS = new String(charArray);\n",
    "        res.putIfAbsent(sortedS, new ArrayList<>());\n",
    "        res.get(sortedS).add(s);\n",
    "    }\n",
    "    return new ArrayList<>(res.values());\n",
    "}\n",
    "\n",
    "String[] s = [\"act\",\"pots\",\"tops\",\"cat\",\"stop\",\"hat\"]\n",
    "System.out.println(groupAnagrams(s));"
   ]
  },
  {
   "cell_type": "code",
   "execution_count": 7,
   "metadata": {
    "vscode": {
     "languageId": "java"
    }
   },
   "outputs": [
    {
     "name": "stdout",
     "output_type": "stream",
     "text": [
      "[[act, cat], [pots, tops, stop], [hat]]\n"
     ]
    }
   ],
   "source": [
    "public ArrayList<ArrayList<String>> groupAnagrams(String[] strs) {\n",
    "    Map<String, ArrayList<String>> res = new HashMap<>();\n",
    "    \n",
    "    for (String s : strs) {\n",
    "        char[] charArray = s.toCharArray();\n",
    "        Arrays.sort(charArray);\n",
    "        String sortedS = new String(charArray);\n",
    "        \n",
    "        res.putIfAbsent(sortedS, new ArrayList<>());\n",
    "        res.get(sortedS).add(s);\n",
    "    }\n",
    "    \n",
    "    return new ArrayList<>(res.values()); // Return a list of lists\n",
    "}\n",
    "\n",
    "\n",
    "String[] s = {\"act\",\"pots\",\"tops\",\"cat\",\"stop\",\"hat\"};\n",
    "System.out.println(groupAnagrams(s));"
   ]
  },
  {
   "cell_type": "code",
   "execution_count": 7,
   "metadata": {
    "vscode": {
     "languageId": "java"
    }
   },
   "outputs": [
    {
     "name": "stdout",
     "output_type": "stream",
     "text": [
      "5: 25\n",
      "7: 49\n",
      "11: 121\n",
      "13: 169\n",
      "17: 289\n",
      "19: 361\n",
      "23: 529\n",
      "25: 625\n",
      "29: 841\n",
      "31: 961\n",
      "35: 1225\n",
      "37: 1369\n",
      "41: 1681\n",
      "43: 1849\n",
      "47: 2209\n",
      "49: 2401\n",
      "53: 2809\n",
      "55: 3025\n",
      "59: 3481\n",
      "61: 3721\n",
      "65: 4225\n",
      "67: 4489\n",
      "71: 5041\n",
      "73: 5329\n",
      "77: 5929\n",
      "79: 6241\n",
      "83: 6889\n",
      "85: 7225\n",
      "89: 7921\n",
      "91: 8281\n",
      "95: 9025\n",
      "97: 9409\n",
      "101: 10201\n",
      "103: 10609\n",
      "107: 11449\n",
      "109: 11881\n"
     ]
    }
   ],
   "source": [
    "int mult = 0;\n",
    "int x = 5;\n",
    "for(int i = 1; i <= 500; i++){\n",
    "    int mult = (24*i)+1; \n",
    "    \n",
    "    for(int j = x; j <= 500; j++) {\n",
    "        if((j*j) == mult){\n",
    "            System.out.println(j + \": \"+ mult);\n",
    "            x = j+1;\n",
    "            break;\n",
    "        }\n",
    "        \n",
    "    }\n",
    "    // System.out.println((24*i)+1);\n",
    "}"
   ]
  },
  {
   "cell_type": "code",
   "execution_count": 7,
   "metadata": {
    "vscode": {
     "languageId": "java"
    }
   },
   "outputs": [
    {
     "name": "stdout",
     "output_type": "stream",
     "text": [
      "0 1\n"
     ]
    }
   ],
   "source": [
    "void result(String s, int n, String[] arr){\n",
    "    for(int i = 0; i < n; i++){\n",
    "        for(int j = i+1; j < n; j++) {\n",
    "            String str = arr[i] + \" \" + arr[j];            \n",
    "            if(s.equals(str)){\n",
    "                System.out.println(i + \" \" + j);\n",
    "            }\n",
    "        }\n",
    "    }\n",
    "}\n",
    "\n",
    "\n",
    "String s = \"a b c d\";\n",
    "int n = 3;\n",
    "String[] arr = {\"a b c\", \"d\", \"g\", \"a b c\"};\n",
    "result(s,n, arr)"
   ]
  },
  {
   "cell_type": "code",
   "execution_count": 18,
   "metadata": {
    "vscode": {
     "languageId": "java"
    }
   },
   "outputs": [
    {
     "name": "stdout",
     "output_type": "stream",
     "text": [
      "0\n",
      "1\n",
      "3\n",
      "6\n",
      "nextloop\n",
      "3\n",
      "1\n",
      "0\n",
      "0\n",
      "Equal\n"
     ]
    }
   ],
   "source": [
    "void check(String s1, String s2){\n",
    "    \n",
    "    int count = 0;\n",
    "\n",
    "    for(int i = 0; i < s1.length(); i++) {\n",
    "        int num = s1.charAt(i) - 'a';\n",
    "        count += num;       \n",
    "        System.out.println(count); \n",
    "    }\n",
    "\n",
    "    System.out.println(\"nextloop\");\n",
    "\n",
    "    for(int i = 0; i < s2.length(); i++) {\n",
    "        int num = s2.charAt(i) - 'a';\n",
    "        count -= num;  \n",
    "        System.out.println(count);      \n",
    "    }\n",
    "\n",
    "    if(count == 0){\n",
    "        System.out.println(\"Equal\");\n",
    "    } else {\n",
    "        System.out.println(\"not equal\");\n",
    "    }\n",
    "}\n",
    "\n",
    "\n",
    "String s1 = \"abcd\";\n",
    "String s2 = \"dcba\";\n",
    "check(s1,s2);"
   ]
  },
  {
   "cell_type": "code",
   "execution_count": null,
   "metadata": {
    "vscode": {
     "languageId": "java"
    }
   },
   "outputs": [],
   "source": []
  }
 ],
 "metadata": {
  "kernelspec": {
   "display_name": "Java",
   "language": "java",
   "name": "java"
  },
  "language_info": {
   "codemirror_mode": "java",
   "file_extension": ".jshell",
   "mimetype": "text/x-java-source",
   "name": "Java",
   "pygments_lexer": "java",
   "version": "21.0.1+12-LTS-29"
  }
 },
 "nbformat": 4,
 "nbformat_minor": 2
}
